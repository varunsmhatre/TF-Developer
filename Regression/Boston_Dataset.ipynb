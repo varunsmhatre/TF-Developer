{
  "nbformat": 4,
  "nbformat_minor": 0,
  "metadata": {
    "colab": {
      "name": "Boston_Dataset.ipynb",
      "provenance": [],
      "authorship_tag": "ABX9TyOI1LguN6IBqPRVTo6jeQYP",
      "include_colab_link": true
    },
    "kernelspec": {
      "name": "python3",
      "display_name": "Python 3"
    },
    "language_info": {
      "name": "python"
    }
  },
  "cells": [
    {
      "cell_type": "markdown",
      "metadata": {
        "id": "view-in-github",
        "colab_type": "text"
      },
      "source": [
        "<a href=\"https://colab.research.google.com/github/varunsmhatre/TF-Developer/blob/main/Regression/Boston_Dataset.ipynb\" target=\"_parent\"><img src=\"https://colab.research.google.com/assets/colab-badge.svg\" alt=\"Open In Colab\"/></a>"
      ]
    },
    {
      "cell_type": "markdown",
      "source": [
        "# Imports"
      ],
      "metadata": {
        "id": "gT2U1aBFqxLZ"
      }
    },
    {
      "cell_type": "code",
      "execution_count": null,
      "metadata": {
        "id": "mCNqkpsr28xo"
      },
      "outputs": [],
      "source": [
        "import tensorflow as tf\n",
        "import pandas as pd\n",
        "import numpy as np\n",
        "import matplotlib.pyplot as plt"
      ]
    },
    {
      "cell_type": "code",
      "source": [
        "tf.__version__"
      ],
      "metadata": {
        "colab": {
          "base_uri": "https://localhost:8080/",
          "height": 35
        },
        "id": "ZQIPNGOfsEU7",
        "outputId": "5166ed35-76e0-41b3-c7f9-4e7aa2e83e78"
      },
      "execution_count": null,
      "outputs": [
        {
          "output_type": "execute_result",
          "data": {
            "text/plain": [
              "'2.8.0'"
            ],
            "application/vnd.google.colaboratory.intrinsic+json": {
              "type": "string"
            }
          },
          "metadata": {},
          "execution_count": 2
        }
      ]
    },
    {
      "cell_type": "markdown",
      "source": [
        "#Load Dataset"
      ],
      "metadata": {
        "id": "vaIiry7Y2Nj8"
      }
    },
    {
      "cell_type": "code",
      "source": [
        "(X_train, y_train), (X_test, y_test) = tf.keras.datasets.boston_housing.load_data(\n",
        "    path='boston_housing.npz', test_split=0.2, seed=113\n",
        ")"
      ],
      "metadata": {
        "id": "xmcDyBPPqwyc",
        "colab": {
          "base_uri": "https://localhost:8080/"
        },
        "outputId": "88e32b37-0eb4-41ac-a78b-60a8fa697460"
      },
      "execution_count": null,
      "outputs": [
        {
          "output_type": "stream",
          "name": "stdout",
          "text": [
            "Downloading data from https://storage.googleapis.com/tensorflow/tf-keras-datasets/boston_housing.npz\n",
            "57344/57026 [==============================] - 0s 0us/step\n",
            "65536/57026 [==================================] - 0s 0us/step\n"
          ]
        }
      ]
    },
    {
      "cell_type": "code",
      "source": [
        "X_train.shape, y_train.shape, X_test.shape, y_test.shape"
      ],
      "metadata": {
        "id": "7lwcPThCqwtZ",
        "colab": {
          "base_uri": "https://localhost:8080/"
        },
        "outputId": "ea9a1a1e-8d95-4e82-a680-601d9d386d56"
      },
      "execution_count": null,
      "outputs": [
        {
          "output_type": "execute_result",
          "data": {
            "text/plain": [
              "((404, 13), (404,), (102, 13), (102,))"
            ]
          },
          "metadata": {},
          "execution_count": 4
        }
      ]
    },
    {
      "cell_type": "code",
      "source": [
        "X_train[0], y_train[0]"
      ],
      "metadata": {
        "colab": {
          "base_uri": "https://localhost:8080/"
        },
        "id": "4FhrzzAj3I05",
        "outputId": "1a748c3f-6274-4a2b-a2bd-5c45e46d4e6f"
      },
      "execution_count": null,
      "outputs": [
        {
          "output_type": "execute_result",
          "data": {
            "text/plain": [
              "(array([  1.23247,   0.     ,   8.14   ,   0.     ,   0.538  ,   6.142  ,\n",
              "         91.7    ,   3.9769 ,   4.     , 307.     ,  21.     , 396.9    ,\n",
              "         18.72   ]), 15.2)"
            ]
          },
          "metadata": {},
          "execution_count": 5
        }
      ]
    },
    {
      "cell_type": "code",
      "source": [
        "tf.linalg.normalize(\n",
        "    tf.constant([1, 2, 3, 100], dtype=tf.float16), ord='euclidean', axis=0\n",
        ")"
      ],
      "metadata": {
        "colab": {
          "base_uri": "https://localhost:8080/"
        },
        "id": "EuMbovHKB-20",
        "outputId": "51009d62-3eba-4708-a4a9-7da744e4f70e"
      },
      "execution_count": null,
      "outputs": [
        {
          "output_type": "execute_result",
          "data": {
            "text/plain": [
              "(<tf.Tensor: shape=(4,), dtype=float16, numpy=array([0.009995, 0.01999 , 0.02998 , 0.9995  ], dtype=float16)>,\n",
              " <tf.Tensor: shape=(1,), dtype=float16, numpy=array([100.06], dtype=float16)>)"
            ]
          },
          "metadata": {},
          "execution_count": 80
        }
      ]
    },
    {
      "cell_type": "markdown",
      "source": [
        "## Train the model"
      ],
      "metadata": {
        "id": "WxsI4K617-m_"
      }
    },
    {
      "cell_type": "code",
      "source": [
        "tf.random.set_seed(42)\n",
        "\n",
        "# Add an extra layer and increase number of units\n",
        "model_1 = tf.keras.Sequential([\n",
        "  # tf.keras.layers.Dense(100, activation=tf.keras.activations.relu), # 100 units\n",
        "  # tf.keras.layers.Dense(100, activation=tf.keras.activations.relu), # 10 units\n",
        "  tf.keras.layers.Dense(10, activation=tf.keras.activations.relu), # 1 unit (important for output layer)\n",
        "  tf.keras.layers.Dense(1), # 1 unit (important for output layer)\n",
        "\n",
        "])\n",
        "\n",
        "# Compile the model\n",
        "model_1.compile(loss=tf.keras.losses.mae,\n",
        "                          optimizer=tf.keras.optimizers.Adam(learning_rate=0.01), # Adam works but SGD doesn't \n",
        "                          metrics=['mae', 'mse'])\n",
        "\n",
        "\n",
        "# Fit the model and save the history (we can plot this)\n",
        "history_1 = model_1.fit(X_train, y_train, epochs=100, verbose=0)\n",
        "model_1.evaluate(X_test, y_test)"
      ],
      "metadata": {
        "colab": {
          "base_uri": "https://localhost:8080/"
        },
        "id": "K9mp0E7Z8AtB",
        "outputId": "ba50ac67-ed7b-4abf-99a5-33c30555b7c3"
      },
      "execution_count": 84,
      "outputs": [
        {
          "output_type": "stream",
          "name": "stdout",
          "text": [
            "4/4 [==============================] - 0s 4ms/step - loss: 4.1909 - mae: 4.1909 - mse: 37.5711\n"
          ]
        },
        {
          "output_type": "execute_result",
          "data": {
            "text/plain": [
              "[4.190866947174072, 4.190866947174072, 37.571136474609375]"
            ]
          },
          "metadata": {},
          "execution_count": 84
        }
      ]
    },
    {
      "cell_type": "code",
      "source": [
        ""
      ],
      "metadata": {
        "id": "EPLjkCAN8Avo"
      },
      "execution_count": null,
      "outputs": []
    }
  ]
}